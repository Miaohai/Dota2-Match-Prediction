{
 "cells": [
  {
   "cell_type": "markdown",
   "metadata": {},
   "source": [
    "## General Information\n",
    "\n",
    "In this notebook, we are going to predict win rate using hero selection and counter rate"
   ]
  },
  {
   "cell_type": "markdown",
   "metadata": {},
   "source": [
    "#### To simplify you navigation through this kernel:\n",
    "\n",
    "    *Change to your own path in order to read the csv file*\n",
    "    \n",
    "    Main data exploration:\n",
    "        1: Combine hero selection and counter rate\n",
    "        2: Predictive Modelling\n",
    "        3: Model Evaluation Metrics\n",
    "            -Classification Accuracy\n",
    "            -F-Measure\n",
    "            -Logarithmic Loss\n",
    "            -Area under curve (AUC)"
   ]
  },
  {
   "cell_type": "markdown",
   "metadata": {},
   "source": [
    "## Change to your path"
   ]
  },
  {
   "cell_type": "code",
   "execution_count": 3,
   "metadata": {},
   "outputs": [],
   "source": [
    "import os\n",
    "import pandas as pd\n",
    "os.chdir(r\"C:\\Users\\chena\\Desktop\\dota-2-matches\\code\\all_csv_files\")"
   ]
  },
  {
   "cell_type": "code",
   "execution_count": 4,
   "metadata": {},
   "outputs": [],
   "source": [
    "import numpy as np # linear algebra\n",
    "import pandas as pd # data processing, CSV file I/O (e.g. pd.read_csv)\n",
    "import matplotlib.pyplot as plt\n",
    "matches = pd.read_csv('match.csv')\n",
    "y = matches['radiant_win'].apply(lambda win: 1 if win else 0)\n",
    "classes = ['Dire Win', 'Radiant Win']\n",
    "hero_selection = pd.read_csv('mapped_match_hero.csv')\n",
    "df_between_counter_rate = pd.read_csv(\"df_between_counter_rate1.csv\")"
   ]
  },
  {
   "cell_type": "markdown",
   "metadata": {},
   "source": [
    "###  1: Combine hero selection and counter rate"
   ]
  },
  {
   "cell_type": "code",
   "execution_count": 7,
   "metadata": {},
   "outputs": [
    {
     "data": {
      "text/html": [
       "<div>\n",
       "<style scoped>\n",
       "    .dataframe tbody tr th:only-of-type {\n",
       "        vertical-align: middle;\n",
       "    }\n",
       "\n",
       "    .dataframe tbody tr th {\n",
       "        vertical-align: top;\n",
       "    }\n",
       "\n",
       "    .dataframe thead th {\n",
       "        text-align: right;\n",
       "    }\n",
       "</style>\n",
       "<table border=\"1\" class=\"dataframe\">\n",
       "  <thead>\n",
       "    <tr style=\"text-align: right;\">\n",
       "      <th></th>\n",
       "      <th>radiant_Abaddon</th>\n",
       "      <th>radiant_Alchemist</th>\n",
       "      <th>radiant_Ancient Apparition</th>\n",
       "      <th>radiant_Anti-Mage</th>\n",
       "      <th>radiant_Axe</th>\n",
       "      <th>radiant_Bane</th>\n",
       "      <th>radiant_Batrider</th>\n",
       "      <th>radiant_Beastmaster</th>\n",
       "      <th>radiant_Bloodseeker</th>\n",
       "      <th>radiant_Bounty Hunter</th>\n",
       "      <th>...</th>\n",
       "      <th>dire_Viper</th>\n",
       "      <th>dire_Visage</th>\n",
       "      <th>dire_Warlock</th>\n",
       "      <th>dire_Weaver</th>\n",
       "      <th>dire_Windranger</th>\n",
       "      <th>dire_Winter Wyvern</th>\n",
       "      <th>dire_Witch Doctor</th>\n",
       "      <th>dire_Wraith King</th>\n",
       "      <th>dire_Zeus</th>\n",
       "      <th>diff</th>\n",
       "    </tr>\n",
       "  </thead>\n",
       "  <tbody>\n",
       "    <tr>\n",
       "      <th>0</th>\n",
       "      <td>0</td>\n",
       "      <td>0</td>\n",
       "      <td>0</td>\n",
       "      <td>0</td>\n",
       "      <td>0</td>\n",
       "      <td>0</td>\n",
       "      <td>0</td>\n",
       "      <td>0</td>\n",
       "      <td>0</td>\n",
       "      <td>0</td>\n",
       "      <td>...</td>\n",
       "      <td>0</td>\n",
       "      <td>0</td>\n",
       "      <td>0</td>\n",
       "      <td>0</td>\n",
       "      <td>0</td>\n",
       "      <td>0</td>\n",
       "      <td>0</td>\n",
       "      <td>0</td>\n",
       "      <td>0</td>\n",
       "      <td>0.033715</td>\n",
       "    </tr>\n",
       "    <tr>\n",
       "      <th>1</th>\n",
       "      <td>0</td>\n",
       "      <td>0</td>\n",
       "      <td>0</td>\n",
       "      <td>0</td>\n",
       "      <td>0</td>\n",
       "      <td>0</td>\n",
       "      <td>0</td>\n",
       "      <td>0</td>\n",
       "      <td>0</td>\n",
       "      <td>0</td>\n",
       "      <td>...</td>\n",
       "      <td>0</td>\n",
       "      <td>0</td>\n",
       "      <td>0</td>\n",
       "      <td>0</td>\n",
       "      <td>0</td>\n",
       "      <td>0</td>\n",
       "      <td>0</td>\n",
       "      <td>0</td>\n",
       "      <td>1</td>\n",
       "      <td>-0.002285</td>\n",
       "    </tr>\n",
       "    <tr>\n",
       "      <th>2</th>\n",
       "      <td>0</td>\n",
       "      <td>0</td>\n",
       "      <td>0</td>\n",
       "      <td>0</td>\n",
       "      <td>0</td>\n",
       "      <td>0</td>\n",
       "      <td>0</td>\n",
       "      <td>0</td>\n",
       "      <td>0</td>\n",
       "      <td>0</td>\n",
       "      <td>...</td>\n",
       "      <td>0</td>\n",
       "      <td>0</td>\n",
       "      <td>0</td>\n",
       "      <td>0</td>\n",
       "      <td>0</td>\n",
       "      <td>0</td>\n",
       "      <td>0</td>\n",
       "      <td>0</td>\n",
       "      <td>0</td>\n",
       "      <td>-0.049158</td>\n",
       "    </tr>\n",
       "    <tr>\n",
       "      <th>3</th>\n",
       "      <td>0</td>\n",
       "      <td>0</td>\n",
       "      <td>0</td>\n",
       "      <td>0</td>\n",
       "      <td>0</td>\n",
       "      <td>0</td>\n",
       "      <td>0</td>\n",
       "      <td>0</td>\n",
       "      <td>0</td>\n",
       "      <td>0</td>\n",
       "      <td>...</td>\n",
       "      <td>1</td>\n",
       "      <td>0</td>\n",
       "      <td>0</td>\n",
       "      <td>0</td>\n",
       "      <td>0</td>\n",
       "      <td>0</td>\n",
       "      <td>0</td>\n",
       "      <td>0</td>\n",
       "      <td>0</td>\n",
       "      <td>0.005308</td>\n",
       "    </tr>\n",
       "    <tr>\n",
       "      <th>4</th>\n",
       "      <td>0</td>\n",
       "      <td>0</td>\n",
       "      <td>0</td>\n",
       "      <td>0</td>\n",
       "      <td>0</td>\n",
       "      <td>0</td>\n",
       "      <td>0</td>\n",
       "      <td>0</td>\n",
       "      <td>0</td>\n",
       "      <td>0</td>\n",
       "      <td>...</td>\n",
       "      <td>0</td>\n",
       "      <td>0</td>\n",
       "      <td>0</td>\n",
       "      <td>0</td>\n",
       "      <td>1</td>\n",
       "      <td>0</td>\n",
       "      <td>0</td>\n",
       "      <td>0</td>\n",
       "      <td>1</td>\n",
       "      <td>0.031996</td>\n",
       "    </tr>\n",
       "  </tbody>\n",
       "</table>\n",
       "<p>5 rows × 223 columns</p>\n",
       "</div>"
      ],
      "text/plain": [
       "   radiant_Abaddon  radiant_Alchemist  radiant_Ancient Apparition  \\\n",
       "0                0                  0                           0   \n",
       "1                0                  0                           0   \n",
       "2                0                  0                           0   \n",
       "3                0                  0                           0   \n",
       "4                0                  0                           0   \n",
       "\n",
       "   radiant_Anti-Mage  radiant_Axe  radiant_Bane  radiant_Batrider  \\\n",
       "0                  0            0             0                 0   \n",
       "1                  0            0             0                 0   \n",
       "2                  0            0             0                 0   \n",
       "3                  0            0             0                 0   \n",
       "4                  0            0             0                 0   \n",
       "\n",
       "   radiant_Beastmaster  radiant_Bloodseeker  radiant_Bounty Hunter  ...  \\\n",
       "0                    0                    0                      0  ...   \n",
       "1                    0                    0                      0  ...   \n",
       "2                    0                    0                      0  ...   \n",
       "3                    0                    0                      0  ...   \n",
       "4                    0                    0                      0  ...   \n",
       "\n",
       "   dire_Viper  dire_Visage  dire_Warlock  dire_Weaver  dire_Windranger  \\\n",
       "0           0            0             0            0                0   \n",
       "1           0            0             0            0                0   \n",
       "2           0            0             0            0                0   \n",
       "3           1            0             0            0                0   \n",
       "4           0            0             0            0                1   \n",
       "\n",
       "   dire_Winter Wyvern  dire_Witch Doctor  dire_Wraith King  dire_Zeus  \\\n",
       "0                   0                  0                 0          0   \n",
       "1                   0                  0                 0          1   \n",
       "2                   0                  0                 0          0   \n",
       "3                   0                  0                 0          0   \n",
       "4                   0                  0                 0          1   \n",
       "\n",
       "       diff  \n",
       "0  0.033715  \n",
       "1 -0.002285  \n",
       "2 -0.049158  \n",
       "3  0.005308  \n",
       "4  0.031996  \n",
       "\n",
       "[5 rows x 223 columns]"
      ]
     },
     "execution_count": 7,
     "metadata": {},
     "output_type": "execute_result"
    }
   ],
   "source": [
    "X = hero_selection.merge(df_between_counter_rate['diff'], left_index=True, right_index=True)\n",
    "X.head()"
   ]
  },
  {
   "cell_type": "markdown",
   "metadata": {},
   "source": [
    "## 2. Predictive Modelling (Logistic Regression)"
   ]
  },
  {
   "cell_type": "code",
   "execution_count": 8,
   "metadata": {},
   "outputs": [],
   "source": [
    "# First, we import python libraries which we will use for modelling and visualing the final model:\n",
    "from sklearn.linear_model import LogisticRegression\n",
    "from sklearn.model_selection import train_test_split\n",
    "from sklearn import model_selection\n",
    "from sklearn.metrics import accuracy_score"
   ]
  },
  {
   "cell_type": "code",
   "execution_count": 21,
   "metadata": {},
   "outputs": [
    {
     "data": {
      "text/html": [
       "<div>\n",
       "<style scoped>\n",
       "    .dataframe tbody tr th:only-of-type {\n",
       "        vertical-align: middle;\n",
       "    }\n",
       "\n",
       "    .dataframe tbody tr th {\n",
       "        vertical-align: top;\n",
       "    }\n",
       "\n",
       "    .dataframe thead th {\n",
       "        text-align: right;\n",
       "    }\n",
       "</style>\n",
       "<table border=\"1\" class=\"dataframe\">\n",
       "  <thead>\n",
       "    <tr style=\"text-align: right;\">\n",
       "      <th></th>\n",
       "      <th>radiant_Abaddon</th>\n",
       "      <th>radiant_Alchemist</th>\n",
       "      <th>radiant_Ancient Apparition</th>\n",
       "      <th>radiant_Anti-Mage</th>\n",
       "      <th>radiant_Axe</th>\n",
       "      <th>radiant_Bane</th>\n",
       "      <th>radiant_Batrider</th>\n",
       "      <th>radiant_Beastmaster</th>\n",
       "      <th>radiant_Bloodseeker</th>\n",
       "      <th>radiant_Bounty Hunter</th>\n",
       "      <th>...</th>\n",
       "      <th>dire_Viper</th>\n",
       "      <th>dire_Visage</th>\n",
       "      <th>dire_Warlock</th>\n",
       "      <th>dire_Weaver</th>\n",
       "      <th>dire_Windranger</th>\n",
       "      <th>dire_Winter Wyvern</th>\n",
       "      <th>dire_Witch Doctor</th>\n",
       "      <th>dire_Wraith King</th>\n",
       "      <th>dire_Zeus</th>\n",
       "      <th>diff</th>\n",
       "    </tr>\n",
       "  </thead>\n",
       "  <tbody>\n",
       "    <tr>\n",
       "      <th>0</th>\n",
       "      <td>-0.186807</td>\n",
       "      <td>-0.331961</td>\n",
       "      <td>-0.269303</td>\n",
       "      <td>-0.319718</td>\n",
       "      <td>-0.219135</td>\n",
       "      <td>-0.162088</td>\n",
       "      <td>-0.100301</td>\n",
       "      <td>-0.114676</td>\n",
       "      <td>-0.175803</td>\n",
       "      <td>-0.268062</td>\n",
       "      <td>...</td>\n",
       "      <td>-0.194635</td>\n",
       "      <td>-0.103506</td>\n",
       "      <td>-0.139616</td>\n",
       "      <td>-0.163512</td>\n",
       "      <td>-0.517351</td>\n",
       "      <td>-0.287529</td>\n",
       "      <td>-0.28145</td>\n",
       "      <td>-0.290373</td>\n",
       "      <td>-0.221033</td>\n",
       "      <td>0.893963</td>\n",
       "    </tr>\n",
       "    <tr>\n",
       "      <th>1</th>\n",
       "      <td>-0.186807</td>\n",
       "      <td>-0.331961</td>\n",
       "      <td>-0.269303</td>\n",
       "      <td>-0.319718</td>\n",
       "      <td>-0.219135</td>\n",
       "      <td>-0.162088</td>\n",
       "      <td>-0.100301</td>\n",
       "      <td>-0.114676</td>\n",
       "      <td>-0.175803</td>\n",
       "      <td>-0.268062</td>\n",
       "      <td>...</td>\n",
       "      <td>-0.194635</td>\n",
       "      <td>-0.103506</td>\n",
       "      <td>-0.139616</td>\n",
       "      <td>-0.163512</td>\n",
       "      <td>-0.517351</td>\n",
       "      <td>-0.287529</td>\n",
       "      <td>-0.28145</td>\n",
       "      <td>-0.290373</td>\n",
       "      <td>4.524206</td>\n",
       "      <td>-0.062968</td>\n",
       "    </tr>\n",
       "    <tr>\n",
       "      <th>2</th>\n",
       "      <td>-0.186807</td>\n",
       "      <td>-0.331961</td>\n",
       "      <td>-0.269303</td>\n",
       "      <td>-0.319718</td>\n",
       "      <td>-0.219135</td>\n",
       "      <td>-0.162088</td>\n",
       "      <td>-0.100301</td>\n",
       "      <td>-0.114676</td>\n",
       "      <td>-0.175803</td>\n",
       "      <td>-0.268062</td>\n",
       "      <td>...</td>\n",
       "      <td>-0.194635</td>\n",
       "      <td>-0.103506</td>\n",
       "      <td>-0.139616</td>\n",
       "      <td>-0.163512</td>\n",
       "      <td>-0.517351</td>\n",
       "      <td>-0.287529</td>\n",
       "      <td>-0.28145</td>\n",
       "      <td>-0.290373</td>\n",
       "      <td>-0.221033</td>\n",
       "      <td>-1.308931</td>\n",
       "    </tr>\n",
       "    <tr>\n",
       "      <th>3</th>\n",
       "      <td>-0.186807</td>\n",
       "      <td>-0.331961</td>\n",
       "      <td>-0.269303</td>\n",
       "      <td>-0.319718</td>\n",
       "      <td>-0.219135</td>\n",
       "      <td>-0.162088</td>\n",
       "      <td>-0.100301</td>\n",
       "      <td>-0.114676</td>\n",
       "      <td>-0.175803</td>\n",
       "      <td>-0.268062</td>\n",
       "      <td>...</td>\n",
       "      <td>5.137826</td>\n",
       "      <td>-0.103506</td>\n",
       "      <td>-0.139616</td>\n",
       "      <td>-0.163512</td>\n",
       "      <td>-0.517351</td>\n",
       "      <td>-0.287529</td>\n",
       "      <td>-0.28145</td>\n",
       "      <td>-0.290373</td>\n",
       "      <td>-0.221033</td>\n",
       "      <td>0.138878</td>\n",
       "    </tr>\n",
       "    <tr>\n",
       "      <th>4</th>\n",
       "      <td>-0.186807</td>\n",
       "      <td>-0.331961</td>\n",
       "      <td>-0.269303</td>\n",
       "      <td>-0.319718</td>\n",
       "      <td>-0.219135</td>\n",
       "      <td>-0.162088</td>\n",
       "      <td>-0.100301</td>\n",
       "      <td>-0.114676</td>\n",
       "      <td>-0.175803</td>\n",
       "      <td>-0.268062</td>\n",
       "      <td>...</td>\n",
       "      <td>-0.194635</td>\n",
       "      <td>-0.103506</td>\n",
       "      <td>-0.139616</td>\n",
       "      <td>-0.163512</td>\n",
       "      <td>1.932924</td>\n",
       "      <td>-0.287529</td>\n",
       "      <td>-0.28145</td>\n",
       "      <td>-0.290373</td>\n",
       "      <td>4.524206</td>\n",
       "      <td>0.848292</td>\n",
       "    </tr>\n",
       "  </tbody>\n",
       "</table>\n",
       "<p>5 rows × 223 columns</p>\n",
       "</div>"
      ],
      "text/plain": [
       "   radiant_Abaddon  radiant_Alchemist  radiant_Ancient Apparition  \\\n",
       "0        -0.186807          -0.331961                   -0.269303   \n",
       "1        -0.186807          -0.331961                   -0.269303   \n",
       "2        -0.186807          -0.331961                   -0.269303   \n",
       "3        -0.186807          -0.331961                   -0.269303   \n",
       "4        -0.186807          -0.331961                   -0.269303   \n",
       "\n",
       "   radiant_Anti-Mage  radiant_Axe  radiant_Bane  radiant_Batrider  \\\n",
       "0          -0.319718    -0.219135     -0.162088         -0.100301   \n",
       "1          -0.319718    -0.219135     -0.162088         -0.100301   \n",
       "2          -0.319718    -0.219135     -0.162088         -0.100301   \n",
       "3          -0.319718    -0.219135     -0.162088         -0.100301   \n",
       "4          -0.319718    -0.219135     -0.162088         -0.100301   \n",
       "\n",
       "   radiant_Beastmaster  radiant_Bloodseeker  radiant_Bounty Hunter  ...  \\\n",
       "0            -0.114676            -0.175803              -0.268062  ...   \n",
       "1            -0.114676            -0.175803              -0.268062  ...   \n",
       "2            -0.114676            -0.175803              -0.268062  ...   \n",
       "3            -0.114676            -0.175803              -0.268062  ...   \n",
       "4            -0.114676            -0.175803              -0.268062  ...   \n",
       "\n",
       "   dire_Viper  dire_Visage  dire_Warlock  dire_Weaver  dire_Windranger  \\\n",
       "0   -0.194635    -0.103506     -0.139616    -0.163512        -0.517351   \n",
       "1   -0.194635    -0.103506     -0.139616    -0.163512        -0.517351   \n",
       "2   -0.194635    -0.103506     -0.139616    -0.163512        -0.517351   \n",
       "3    5.137826    -0.103506     -0.139616    -0.163512        -0.517351   \n",
       "4   -0.194635    -0.103506     -0.139616    -0.163512         1.932924   \n",
       "\n",
       "   dire_Winter Wyvern  dire_Witch Doctor  dire_Wraith King  dire_Zeus  \\\n",
       "0           -0.287529           -0.28145         -0.290373  -0.221033   \n",
       "1           -0.287529           -0.28145         -0.290373   4.524206   \n",
       "2           -0.287529           -0.28145         -0.290373  -0.221033   \n",
       "3           -0.287529           -0.28145         -0.290373  -0.221033   \n",
       "4           -0.287529           -0.28145         -0.290373   4.524206   \n",
       "\n",
       "       diff  \n",
       "0  0.893963  \n",
       "1 -0.062968  \n",
       "2 -1.308931  \n",
       "3  0.138878  \n",
       "4  0.848292  \n",
       "\n",
       "[5 rows x 223 columns]"
      ]
     },
     "execution_count": 21,
     "metadata": {},
     "output_type": "execute_result"
    }
   ],
   "source": [
    "from sklearn.preprocessing import StandardScaler\n",
    "scaler = StandardScaler()\n",
    "scaler.fit(X)\n",
    "X1=pd.DataFrame(scaler.transform(X),columns=X.columns)\n",
    "X1.head()"
   ]
  },
  {
   "cell_type": "code",
   "execution_count": 9,
   "metadata": {},
   "outputs": [
    {
     "name": "stderr",
     "output_type": "stream",
     "text": [
      "C:\\Users\\chena\\Miniconda3\\lib\\site-packages\\sklearn\\model_selection\\_split.py:296: FutureWarning: Setting a random_state has no effect since shuffle is False. This will raise an error in 0.24. You should leave random_state to its default (None), or set shuffle=True.\n",
      "  FutureWarning\n"
     ]
    }
   ],
   "source": [
    "#generate the same set of random numbers\n",
    "seed = 7\n",
    "#cross-validation settings\n",
    "kfold = model_selection.KFold(n_splits=10, random_state=seed)"
   ]
  },
  {
   "cell_type": "markdown",
   "metadata": {},
   "source": [
    "### 3. Evaluate model performance"
   ]
  },
  {
   "cell_type": "code",
   "execution_count": 22,
   "metadata": {},
   "outputs": [
    {
     "name": "stdout",
     "output_type": "stream",
     "text": [
      "Accuracy -val set: 67.54% (0.01)\n"
     ]
    }
   ],
   "source": [
    "#Model instance\n",
    "model = LogisticRegression()\n",
    "#Evaluate model performance\n",
    "scoring = 'accuracy'\n",
    "results = model_selection.cross_val_score(model, X1, y, cv=kfold, scoring=scoring)\n",
    "print('Accuracy -val set: %.2f%% (%.2f)' % (results.mean()*100, results.std()))"
   ]
  },
  {
   "cell_type": "markdown",
   "metadata": {},
   "source": [
    "#### The classification accuracy is 67.54% on the validation set."
   ]
  },
  {
   "cell_type": "code",
   "execution_count": 23,
   "metadata": {},
   "outputs": [
    {
     "name": "stdout",
     "output_type": "stream",
     "text": [
      "Accuracy - test set: 67.89%\n"
     ]
    }
   ],
   "source": [
    "#split data\n",
    "X_train, X_test, y_train, y_test = model_selection.train_test_split(X1, y, test_size=0.25, random_state=seed)\n",
    "#fit model\n",
    "model.fit(X_train, y_train)\n",
    "#accuracy on test set\n",
    "result = model.score(X_test, y_test)\n",
    "print(\"Accuracy - test set: %.2f%%\" % (result*100.0))"
   ]
  },
  {
   "cell_type": "markdown",
   "metadata": {},
   "source": [
    "### The classification accuracy is improving from 60.43% (Predicting win using Hero Selection) to 67.89%"
   ]
  },
  {
   "cell_type": "markdown",
   "metadata": {},
   "source": [
    "### F1-Measure"
   ]
  },
  {
   "cell_type": "code",
   "execution_count": 24,
   "metadata": {},
   "outputs": [
    {
     "name": "stdout",
     "output_type": "stream",
     "text": [
      "Precision: 0.684968\n",
      "Recall: 0.709390\n",
      "F1 score: 0.696965\n"
     ]
    }
   ],
   "source": [
    "predictions = model.predict(X_test)\n",
    "predictions\n",
    "from sklearn.metrics import precision_recall_fscore_support as score, precision_score, recall_score, f1_score\n",
    "precision = precision_score(y_test, predictions)\n",
    "print('Precision: %f' % precision)\n",
    "# recall: tp / (tp + fn)\n",
    "recall = recall_score(y_test, predictions)\n",
    "print('Recall: %f' % recall)\n",
    "# f1: tp / (tp + fp + fn)\n",
    "f1 = f1_score(y_test, predictions)\n",
    "print('F1 score: %f' % f1)"
   ]
  },
  {
   "cell_type": "markdown",
   "metadata": {},
   "source": [
    "### Logarithmic Loss"
   ]
  },
  {
   "cell_type": "code",
   "execution_count": 25,
   "metadata": {},
   "outputs": [
    {
     "name": "stdout",
     "output_type": "stream",
     "text": [
      "Logloss: 11.09\n"
     ]
    }
   ],
   "source": [
    "from sklearn.metrics import log_loss\n",
    "accuracy = log_loss(y_test, predictions)\n",
    "print(\"Logloss: %.2f\" % (accuracy))"
   ]
  },
  {
   "cell_type": "markdown",
   "metadata": {},
   "source": [
    "Log loss is decreasing from 13.67 (Predicting win using Hero Selection) to 11.09"
   ]
  },
  {
   "cell_type": "markdown",
   "metadata": {},
   "source": [
    "### Area under Curve (AUC)"
   ]
  },
  {
   "cell_type": "code",
   "execution_count": 26,
   "metadata": {},
   "outputs": [
    {
     "name": "stdout",
     "output_type": "stream",
     "text": [
      "AUC - Test Set: 73.93%\n"
     ]
    },
    {
     "data": {
      "image/png": "[encoded data removed]",
      "text/plain": [
       "<Figure size 432x288 with 1 Axes>"
      ]
     },
     "metadata": {
      "needs_background": "light"
     },
     "output_type": "display_data"
    }
   ],
   "source": [
    "from sklearn.metrics import roc_auc_score, roc_curve\n",
    "\n",
    "# predict probabilities\n",
    "probs = model.predict_proba(X_test)\n",
    "# keep probabilities for the positive outcome only\n",
    "probs = probs[:, 1]\n",
    "\n",
    "auc = roc_auc_score(y_test, probs)\n",
    "print('AUC - Test Set: %.2f%%' % (auc*100))\n",
    "\n",
    "# calculate roc curve\n",
    "fpr, tpr, thresholds = roc_curve(y_test, probs)\n",
    "# plot no skill\n",
    "plt.plot([0, 1], [0, 1], linestyle='--')\n",
    "# plot the roc curve for the model\n",
    "plt.plot(fpr, tpr, marker='.')\n",
    "# show the plot\n",
    "plt.show()"
   ]
  },
  {
   "cell_type": "markdown",
   "metadata": {},
   "source": [
    "AUG is increasing from 64.10% (Predicting win using Hero Selection) to 73.93%"
   ]
  },
  {
   "cell_type": "code",
   "execution_count": null,
   "metadata": {},
   "outputs": [],
   "source": []
  }
 ],
 "metadata": {
  "kernelspec": {
   "display_name": "Python 3",
   "language": "python",
   "name": "python3"
  },
  "language_info": {
   "codemirror_mode": {
    "name": "ipython",
    "version": 3
   },
   "file_extension": ".py",
   "mimetype": "text/x-python",
   "name": "python",
   "nbconvert_exporter": "python",
   "pygments_lexer": "ipython3",
   "version": "3.7.4"
  }
 },
 "nbformat": 4,
 "nbformat_minor": 4
}
