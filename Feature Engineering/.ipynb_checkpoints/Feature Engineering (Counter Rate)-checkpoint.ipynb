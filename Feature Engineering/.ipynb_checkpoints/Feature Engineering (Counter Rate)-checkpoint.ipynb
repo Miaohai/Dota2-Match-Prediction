{
 "cells": [
  {
   "cell_type": "markdown",
   "metadata": {},
   "source": [
    "### General Information\n",
    "\n",
    "In this notebook, we are going to find counter rate of each team. Team with high counter rate usually have high chances of winning"
   ]
  },
  {
   "cell_type": "markdown",
   "metadata": {},
   "source": [
    "#### To simplify you navigation through this kernel:\n",
    "\n",
    "    *Change to your own path in order to read the csv file*\n",
    "    \n",
    "    Main data exploration:\n",
    "        1: Combination of the hero pool\n",
    "        2: Hero Counter Rate\n",
    "        3: Top 10 hero counter rate\n",
    "        4: Calculate counter rate for each team and their differences "
   ]
  },
  {
   "cell_type": "markdown",
   "metadata": {},
   "source": [
    "### Change to your path"
   ]
  },
  {
   "cell_type": "code",
   "execution_count": 1,
   "metadata": {},
   "outputs": [],
   "source": [
    "import os\n",
    "os.chdir(r\"C:\\Users\\chena\\Desktop\\dota-2-matches\\code\\all_csv_files\")"
   ]
  },
  {
   "cell_type": "code",
   "execution_count": 2,
   "metadata": {},
   "outputs": [],
   "source": [
    "import pandas as pd\n",
    "lineup=pd.read_json (r'match_lineup.json')\n",
    "matches = pd.read_csv('match.csv')"
   ]
  },
  {
   "cell_type": "markdown",
   "metadata": {},
   "source": [
    "### 1: Combination of the hero pool"
   ]
  },
  {
   "cell_type": "code",
   "execution_count": 3,
   "metadata": {},
   "outputs": [],
   "source": [
    "heroes= pd.read_csv('heroes.csv')\n",
    "import itertools\n",
    "x=itertools.combinations(heroes['Hero Name'], 2)\n",
    "dict1={}\n",
    "for i in x:\n",
    "    dict1[i]={\"Win\":0, \"Total\":0}"
   ]
  },
  {
   "cell_type": "code",
   "execution_count": 4,
   "metadata": {},
   "outputs": [
    {
     "data": {
      "text/html": [
       "<div>\n",
       "<style scoped>\n",
       "    .dataframe tbody tr th:only-of-type {\n",
       "        vertical-align: middle;\n",
       "    }\n",
       "\n",
       "    .dataframe tbody tr th {\n",
       "        vertical-align: top;\n",
       "    }\n",
       "\n",
       "    .dataframe thead th {\n",
       "        text-align: right;\n",
       "    }\n",
       "</style>\n",
       "<table border=\"1\" class=\"dataframe\">\n",
       "  <thead>\n",
       "    <tr style=\"text-align: right;\">\n",
       "      <th></th>\n",
       "      <th>radiant</th>\n",
       "      <th>dire</th>\n",
       "    </tr>\n",
       "  </thead>\n",
       "  <tbody>\n",
       "    <tr>\n",
       "      <th>0</th>\n",
       "      <td>[Rubick, Clockwerk, Treant Protector, Shadow F...</td>\n",
       "      <td>[Ember Spirit, Abaddon, Templar Assassin, Eart...</td>\n",
       "    </tr>\n",
       "    <tr>\n",
       "      <th>1</th>\n",
       "      <td>[Earthshaker, Meepo, Spirit Breaker, Queen of ...</td>\n",
       "      <td>[Alchemist, Zeus, Crystal Maiden, Spectre, Emb...</td>\n",
       "    </tr>\n",
       "    <tr>\n",
       "      <th>2</th>\n",
       "      <td>[Clockwerk, Terrorblade, Mirana, Faceless Void...</td>\n",
       "      <td>[Beastmaster, Earthshaker, Morphling, Phantom ...</td>\n",
       "    </tr>\n",
       "    <tr>\n",
       "      <th>3</th>\n",
       "      <td>[Dazzle, Phantom Assassin, Riki, Lion, Queen o...</td>\n",
       "      <td>[Brewmaster, Tiny, Lich, Venomancer, Viper]</td>\n",
       "    </tr>\n",
       "    <tr>\n",
       "      <th>4</th>\n",
       "      <td>[Juggernaut, Queen of Pain, Dark Seer, Disrupt...</td>\n",
       "      <td>[Skywrath Mage, Tusk, Zeus, Spectre, Windranger]</td>\n",
       "    </tr>\n",
       "  </tbody>\n",
       "</table>\n",
       "</div>"
      ],
      "text/plain": [
       "                                             radiant  \\\n",
       "0  [Rubick, Clockwerk, Treant Protector, Shadow F...   \n",
       "1  [Earthshaker, Meepo, Spirit Breaker, Queen of ...   \n",
       "2  [Clockwerk, Terrorblade, Mirana, Faceless Void...   \n",
       "3  [Dazzle, Phantom Assassin, Riki, Lion, Queen o...   \n",
       "4  [Juggernaut, Queen of Pain, Dark Seer, Disrupt...   \n",
       "\n",
       "                                                dire  \n",
       "0  [Ember Spirit, Abaddon, Templar Assassin, Eart...  \n",
       "1  [Alchemist, Zeus, Crystal Maiden, Spectre, Emb...  \n",
       "2  [Beastmaster, Earthshaker, Morphling, Phantom ...  \n",
       "3        [Brewmaster, Tiny, Lich, Venomancer, Viper]  \n",
       "4   [Skywrath Mage, Tusk, Zeus, Spectre, Windranger]  "
      ]
     },
     "execution_count": 4,
     "metadata": {},
     "output_type": "execute_result"
    }
   ],
   "source": [
    "lineup1=lineup.transpose()\n",
    "lineup1.head()"
   ]
  },
  {
   "cell_type": "code",
   "execution_count": 5,
   "metadata": {},
   "outputs": [],
   "source": [
    "y = matches['radiant_win'].apply(lambda win: 1 if win else 0)\n",
    "classes = ['Dire Win', 'Radiant Win']\n",
    "X= lineup1.merge(y, left_index=True, right_index=True)"
   ]
  },
  {
   "cell_type": "markdown",
   "metadata": {},
   "source": [
    "Retrieve all the matches that radiant won the match"
   ]
  },
  {
   "cell_type": "code",
   "execution_count": 6,
   "metadata": {},
   "outputs": [],
   "source": [
    "radiant_win=X[X[\"radiant_win\"]==1]\n",
    "dire_win=X[X[\"radiant_win\"]==0]"
   ]
  },
  {
   "cell_type": "markdown",
   "metadata": {},
   "source": [
    "### 2. Hero Counter  Rate "
   ]
  },
  {
   "cell_type": "markdown",
   "metadata": {},
   "source": [
    "#####    Algorithm:\n",
    "        loop through radiant_win:\n",
    "            loop through rad_team:\n",
    "                loop through dire_team:\n",
    "                    if key in dict1 then win+=1, Total+=1\n",
    "                    else Total+=1"
   ]
  },
  {
   "cell_type": "code",
   "execution_count": 7,
   "metadata": {},
   "outputs": [],
   "source": [
    "for index, row in radiant_win.iterrows():\n",
    "    #look through every match\n",
    "    rad = row[0]\n",
    "    dire = row[1]\n",
    "    \n",
    "    for i in range (len(rad)):\n",
    "        for j in range (len(dire)):\n",
    "            key = (rad[i],dire[j])\n",
    "            if (key in dict1):\n",
    "                try:\n",
    "                    dict1[key]['Win']+=1\n",
    "                    dict1[key][\"Total\"]+=1\n",
    "                except:\n",
    "                    pass\n",
    "            else:\n",
    "                try:\n",
    "                    alt_key = (dire[j],rad[i])\n",
    "                    dict1[alt_key][\"Total\"]+=1\n",
    "                except:\n",
    "                    pass"
   ]
  },
  {
   "cell_type": "markdown",
   "metadata": {},
   "source": [
    "#####    Algorithm:\n",
    "        loop through radiant_win:\n",
    "            loop through rad_team:\n",
    "                loop through dire_team:\n",
    "                    if key in dict1 then Total+=1\n",
    "                    else win+=1, Total+=1"
   ]
  },
  {
   "cell_type": "code",
   "execution_count": 8,
   "metadata": {},
   "outputs": [],
   "source": [
    "for index, row in dire_win.iterrows():\n",
    "    #look through every match\n",
    "    rad = row[0]\n",
    "    dire = row[1]\n",
    "    \n",
    "    for i in range (len(rad)):\n",
    "        for j in range (len(dire)):\n",
    "            key = (rad[i],dire[j])\n",
    "            if (key in dict1):\n",
    "                try:\n",
    "                    dict1[key][\"Total\"]+=1\n",
    "                except:\n",
    "                    pass\n",
    "            else:\n",
    "                try:\n",
    "                    alt_key = (dire[j],rad[i])\n",
    "                    dict1[alt_key]['Win']+=1\n",
    "                    dict1[alt_key][\"Total\"]+=1\n",
    "                except:\n",
    "                    pass"
   ]
  },
  {
   "cell_type": "code",
   "execution_count": 9,
   "metadata": {},
   "outputs": [
    {
     "data": {
      "text/html": [
       "<div>\n",
       "<style scoped>\n",
       "    .dataframe tbody tr th:only-of-type {\n",
       "        vertical-align: middle;\n",
       "    }\n",
       "\n",
       "    .dataframe tbody tr th {\n",
       "        vertical-align: top;\n",
       "    }\n",
       "\n",
       "    .dataframe thead th {\n",
       "        text-align: right;\n",
       "    }\n",
       "</style>\n",
       "<table border=\"1\" class=\"dataframe\">\n",
       "  <thead>\n",
       "    <tr style=\"text-align: right;\">\n",
       "      <th></th>\n",
       "      <th></th>\n",
       "      <th>Win</th>\n",
       "      <th>Total</th>\n",
       "    </tr>\n",
       "  </thead>\n",
       "  <tbody>\n",
       "    <tr>\n",
       "      <th rowspan=\"5\" valign=\"top\">Abaddon</th>\n",
       "      <th>Alchemist</th>\n",
       "      <td>160</td>\n",
       "      <td>322</td>\n",
       "    </tr>\n",
       "    <tr>\n",
       "      <th>Axe</th>\n",
       "      <td>121</td>\n",
       "      <td>186</td>\n",
       "    </tr>\n",
       "    <tr>\n",
       "      <th>Beastmaster</th>\n",
       "      <td>27</td>\n",
       "      <td>47</td>\n",
       "    </tr>\n",
       "    <tr>\n",
       "      <th>Brewmaster</th>\n",
       "      <td>16</td>\n",
       "      <td>28</td>\n",
       "    </tr>\n",
       "    <tr>\n",
       "      <th>Bristleback</th>\n",
       "      <td>80</td>\n",
       "      <td>135</td>\n",
       "    </tr>\n",
       "  </tbody>\n",
       "</table>\n",
       "</div>"
      ],
      "text/plain": [
       "                     Win  Total\n",
       "Abaddon Alchemist    160    322\n",
       "        Axe          121    186\n",
       "        Beastmaster   27     47\n",
       "        Brewmaster    16     28\n",
       "        Bristleback   80    135"
      ]
     },
     "execution_count": 9,
     "metadata": {},
     "output_type": "execute_result"
    }
   ],
   "source": [
    "hero_pair_counter_rate=pd.DataFrame.from_dict(dict1)\n",
    "new=hero_pair_counter_rate.transpose()\n",
    "new.head()"
   ]
  },
  {
   "cell_type": "markdown",
   "metadata": {},
   "source": [
    "## 3. Top 10 Hero Counter Rate"
   ]
  },
  {
   "cell_type": "code",
   "execution_count": 10,
   "metadata": {},
   "outputs": [
    {
     "data": {
      "text/html": [
       "<div>\n",
       "<style scoped>\n",
       "    .dataframe tbody tr th:only-of-type {\n",
       "        vertical-align: middle;\n",
       "    }\n",
       "\n",
       "    .dataframe tbody tr th {\n",
       "        vertical-align: top;\n",
       "    }\n",
       "\n",
       "    .dataframe thead th {\n",
       "        text-align: right;\n",
       "    }\n",
       "</style>\n",
       "<table border=\"1\" class=\"dataframe\">\n",
       "  <thead>\n",
       "    <tr style=\"text-align: right;\">\n",
       "      <th></th>\n",
       "      <th></th>\n",
       "      <th>Win</th>\n",
       "      <th>Total</th>\n",
       "      <th>counter_rate</th>\n",
       "    </tr>\n",
       "  </thead>\n",
       "  <tbody>\n",
       "    <tr>\n",
       "      <th>Omniknight</th>\n",
       "      <th>Batrider</th>\n",
       "      <td>42</td>\n",
       "      <td>53</td>\n",
       "      <td>0.792453</td>\n",
       "    </tr>\n",
       "    <tr>\n",
       "      <th>Vengeful Spirit</th>\n",
       "      <th>Puck</th>\n",
       "      <td>54</td>\n",
       "      <td>71</td>\n",
       "      <td>0.760563</td>\n",
       "    </tr>\n",
       "    <tr>\n",
       "      <th>Abaddon</th>\n",
       "      <th>Morphling</th>\n",
       "      <td>38</td>\n",
       "      <td>50</td>\n",
       "      <td>0.760000</td>\n",
       "    </tr>\n",
       "    <tr>\n",
       "      <th>Omniknight</th>\n",
       "      <th>Shadow Demon</th>\n",
       "      <td>97</td>\n",
       "      <td>132</td>\n",
       "      <td>0.734848</td>\n",
       "    </tr>\n",
       "    <tr>\n",
       "      <th>Lifestealer</th>\n",
       "      <th>Tinker</th>\n",
       "      <td>47</td>\n",
       "      <td>64</td>\n",
       "      <td>0.734375</td>\n",
       "    </tr>\n",
       "    <tr>\n",
       "      <th>Ursa</th>\n",
       "      <th>Tinker</th>\n",
       "      <td>73</td>\n",
       "      <td>101</td>\n",
       "      <td>0.722772</td>\n",
       "    </tr>\n",
       "    <tr>\n",
       "      <th>Abaddon</th>\n",
       "      <th>Bloodseeker</th>\n",
       "      <td>79</td>\n",
       "      <td>110</td>\n",
       "      <td>0.718182</td>\n",
       "    </tr>\n",
       "    <tr>\n",
       "      <th>Spectre</th>\n",
       "      <th>Nature's Prophet</th>\n",
       "      <td>159</td>\n",
       "      <td>222</td>\n",
       "      <td>0.716216</td>\n",
       "    </tr>\n",
       "    <tr>\n",
       "      <th>Wraith King</th>\n",
       "      <th>Morphling</th>\n",
       "      <td>73</td>\n",
       "      <td>102</td>\n",
       "      <td>0.715686</td>\n",
       "    </tr>\n",
       "    <tr>\n",
       "      <th>Undying</th>\n",
       "      <th>Oracle</th>\n",
       "      <td>40</td>\n",
       "      <td>56</td>\n",
       "      <td>0.714286</td>\n",
       "    </tr>\n",
       "  </tbody>\n",
       "</table>\n",
       "</div>"
      ],
      "text/plain": [
       "                                  Win  Total  counter_rate\n",
       "Omniknight      Batrider           42     53      0.792453\n",
       "Vengeful Spirit Puck               54     71      0.760563\n",
       "Abaddon         Morphling          38     50      0.760000\n",
       "Omniknight      Shadow Demon       97    132      0.734848\n",
       "Lifestealer     Tinker             47     64      0.734375\n",
       "Ursa            Tinker             73    101      0.722772\n",
       "Abaddon         Bloodseeker        79    110      0.718182\n",
       "Spectre         Nature's Prophet  159    222      0.716216\n",
       "Wraith King     Morphling          73    102      0.715686\n",
       "Undying         Oracle             40     56      0.714286"
      ]
     },
     "execution_count": 10,
     "metadata": {},
     "output_type": "execute_result"
    }
   ],
   "source": [
    "def counter_rate(x):\n",
    "    new = x.copy()\n",
    "    ### Your code goes here\n",
    "    new['counter_rate'] = new['Win'] / new.Total\n",
    "    return new\n",
    "new1=counter_rate(new)\n",
    "\n",
    "# Select hero pair that played more than 50 matches\n",
    "more_than_50_matches = new1[new1['Total']>=50]\n",
    "\n",
    "more_than_50_matches=more_than_50_matches.sort_values(by=['counter_rate'],ascending=False,)\n",
    "top10 = more_than_50_matches.head(10)\n",
    "top10"
   ]
  },
  {
   "cell_type": "markdown",
   "metadata": {},
   "source": [
    "### 4. Calculate Counter rate for each team and their differences "
   ]
  },
  {
   "cell_type": "code",
   "execution_count": null,
   "metadata": {},
   "outputs": [],
   "source": [
    "diff_counter=[]\n",
    "\n",
    "for index, row in X.iterrows():\n",
    "    #look through every match\n",
    "    rad = row[0]\n",
    "    dire = row[1]\n",
    "    status = row[2]\n",
    "    \n",
    "    if status == 1:\n",
    "        total_counter_rate=0\n",
    "        for i in range (len(rad)):\n",
    "            each_hero=0\n",
    "            for j in range (len(dire)):\n",
    "                key = (rad[i],dire[j])\n",
    "                if (key in dict1):\n",
    "                    try:\n",
    "                        each_hero+=(dict1[key]['Win']/dict1[key]['Total'])\n",
    "                    except:\n",
    "                        each_hero+=0\n",
    "                else:\n",
    "                    try:\n",
    "                        alt_key = (dire[j],rad[i])\n",
    "    #                     print(alt_key)\n",
    "    #                     print(dict1[alt_key])\n",
    "                        each_hero+=(dict1[alt_key]['Win']/dict1[alt_key]['Total'])\n",
    "    #                     print(each_hero)\n",
    "                    except:\n",
    "                        pass\n",
    "                        each_hero+=0\n",
    "    #                     print (f\"alt_key is {alt_key}\")\n",
    "            avg_counter_rate=each_hero/5\n",
    "    #         print(avg_counter_rate)\n",
    "            total_counter_rate+=avg_counter_rate\n",
    "#         print('rad_counter_rate',total_counter_rate/5)\n",
    "#         print('dire_counter_rate', 1 - (total_counter_rate/5))\n",
    "    #     print('diff', total_counter_rate/5 - (1 - (total_counter_rate/5)))\n",
    "        diff = total_counter_rate/5 - (1 - (total_counter_rate/5))\n",
    "#         print(diff)\n",
    "        diff_counter.append(diff)\n",
    "    else:\n",
    "        total_counter_rate=0\n",
    "        for i in range (len(dire)):\n",
    "            each_hero=0\n",
    "            for j in range (len(rad)):\n",
    "                key = (dire[i],rad[j])\n",
    "                if (key in dict1):\n",
    "                    try:\n",
    "                        each_hero+=(1-dict1[key]['Win']/dict1[key]['Total'])\n",
    "                    except:\n",
    "                        each_hero+=0\n",
    "                else:\n",
    "                    try:\n",
    "                        alt_key = (rad[j],dire[i])\n",
    "    #                     print(alt_key)\n",
    "    #                     print(dict1[alt_key])\n",
    "                        each_hero+=(1-dict1[alt_key]['Win']/dict1[alt_key]['Total'])\n",
    "    #                     print(each_hero)\n",
    "                    except:\n",
    "                        pass\n",
    "                        each_hero+=0\n",
    "    #                     print (f\"alt_key is {alt_key}\")\n",
    "            avg_counter_rate=each_hero/5\n",
    "    #         print(avg_counter_rate)\n",
    "            total_counter_rate+=avg_counter_rate\n",
    "#         print('rad_counter_rate',total_counter_rate/5)\n",
    "#         print('dire_counter_rate', 1 - (total_counter_rate/5))\n",
    "    #     print('diff', total_counter_rate/5 - (1 - (total_counter_rate/5)))\n",
    "        diff = total_counter_rate/5 - (1 - (total_counter_rate/5))\n",
    "#         print(diff)\n",
    "        diff_counter.append(diff)"
   ]
  },
  {
   "cell_type": "markdown",
   "metadata": {},
   "source": [
    "#### Adding the difference of Counter Rate in the dataframe"
   ]
  },
  {
   "cell_type": "code",
   "execution_count": null,
   "metadata": {},
   "outputs": [],
   "source": [
    "X['diff']=diff_counter\n",
    "X"
   ]
  },
  {
   "cell_type": "code",
   "execution_count": null,
   "metadata": {},
   "outputs": [],
   "source": [
    "# X.to_csv(r'df_between_counter_rate1.csv')"
   ]
  },
  {
   "cell_type": "markdown",
   "metadata": {},
   "source": [
    "#### Testing"
   ]
  },
  {
   "cell_type": "code",
   "execution_count": null,
   "metadata": {},
   "outputs": [],
   "source": [
    "# testing=pd.read_json (r'hero_counter_testing.json')\n",
    "# testing = testing.transpose()\n",
    "# testing['radiant_win']=[1,0,1,0,1]\n",
    "# testing_win=testing[testing[\"radiant_win\"]==1]\n",
    "# testing_win"
   ]
  },
  {
   "cell_type": "code",
   "execution_count": null,
   "metadata": {},
   "outputs": [],
   "source": [
    "# for index, row in testing_win.iterrows():\n",
    "#     #look through every match\n",
    "#     rad = row[0]\n",
    "#     dire = row[1]\n",
    "    \n",
    "#     for i in range (len(rad)):\n",
    "#         for j in range (len(dire)):\n",
    "#             key = (rad[i],dire[j])\n",
    "#             if (key in dict1):\n",
    "#                 try:\n",
    "#                     dict1[key]['Win']+=1\n",
    "#                     dict1[key][\"Total\"]+=1\n",
    "#                 except:\n",
    "#                     pass\n",
    "#             else:\n",
    "#                 try:\n",
    "#                     alt_key = (dire[j],rad[i])\n",
    "#                     dict1[alt_key][\"Total\"]+=1\n",
    "#                 except:\n",
    "#                     pass\n",
    "# dict1['Ember Spirit','Rubick']"
   ]
  }
 ],
 "metadata": {
  "kernelspec": {
   "display_name": "Python 3",
   "language": "python",
   "name": "python3"
  },
  "language_info": {
   "codemirror_mode": {
    "name": "ipython",
    "version": 3
   },
   "file_extension": ".py",
   "mimetype": "text/x-python",
   "name": "python",
   "nbconvert_exporter": "python",
   "pygments_lexer": "ipython3",
   "version": "3.7.4"
  }
 },
 "nbformat": 4,
 "nbformat_minor": 4
}
