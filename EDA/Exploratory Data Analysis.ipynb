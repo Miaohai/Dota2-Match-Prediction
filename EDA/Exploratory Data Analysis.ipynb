{
 "cells": [
  {
   "cell_type": "markdown",
   "metadata": {},
   "source": [
    "## General Information\n",
    "\n",
    "This kernel is dedicated to EDA of Dota 2 dataset. Fortunately, the dataset that we obtained is quite clean and no missing values"
   ]
  },
  {
   "cell_type": "markdown",
   "metadata": {},
   "source": [
    "### To simplify you navigation through this kernel:\n",
    "\n",
    "    *Change to your own path in order to read the csv file*\n",
    "    \n",
    "    Main data exploration:\n",
    "        1: Correlation of each feactures using seaborn\n",
    "        2: Lookup hero name in every matches\n",
    "        3: Find out most popular Dota 2 Heroes\n",
    "        4: Find out statistics about each hero\n",
    "        5: Standardize features by removing the mean and scaling to unit variance\n",
    "        6: Perform KMeans, set k = 5, and random_state=1000\n",
    "        7: Peform PCA to convert a set of observations of possibly correlated variables into a set of values of linearly    \n",
    "           uncorrelated variables\n",
    "        8: Scatter plot visualization of hero map\n",
    "        9: Identify each hero position using hero map\n",
    "        10:Find out statistics about position in Dota2\n",
    "        11:Visualization of Dota2 postion"
   ]
  },
  {
   "cell_type": "markdown",
   "metadata": {},
   "source": [
    "### Change to your path"
   ]
  },
  {
   "cell_type": "code",
   "execution_count": 1,
   "metadata": {},
   "outputs": [],
   "source": [
    "import os\n",
    "import pandas as pd\n",
    "os.chdir(r\"C:\\Users\\chena\\Desktop\\dota-2-matches\\code\\all_csv_files\")"
   ]
  },
  {
   "cell_type": "code",
   "execution_count": 2,
   "metadata": {},
   "outputs": [],
   "source": [
    "import pandas as pd\n",
    "%matplotlib inline\n",
    "import matplotlib.pyplot as plt"
   ]
  },
  {
   "cell_type": "code",
   "execution_count": 3,
   "metadata": {},
   "outputs": [],
   "source": [
    "# Contains statistics abouts players performance in individual matches.\n",
    "players = pd.read_csv('players.csv')\n",
    "# Contains statistics abouts every individual matches.\n",
    "matches = pd.read_csv('match.csv')\n",
    "# Contains information about each hero\n",
    "heroes = pd.read_csv('hero_names.csv')"
   ]
  },
  {
   "cell_type": "code",
   "execution_count": 4,
   "metadata": {},
   "outputs": [],
   "source": [
    "heroClustering = players[['hero_id', 'gold',\n",
    "       'gold_per_min', 'xp_per_min', 'kills', 'deaths',\n",
    "       'assists', 'hero_damage',\n",
    "       'hero_healing', 'tower_damage', 'level']]"
   ]
  },
  {
   "cell_type": "code",
   "execution_count": 5,
   "metadata": {},
   "outputs": [
    {
     "data": {
      "text/html": [
       "<div>\n",
       "<style scoped>\n",
       "    .dataframe tbody tr th:only-of-type {\n",
       "        vertical-align: middle;\n",
       "    }\n",
       "\n",
       "    .dataframe tbody tr th {\n",
       "        vertical-align: top;\n",
       "    }\n",
       "\n",
       "    .dataframe thead th {\n",
       "        text-align: right;\n",
       "    }\n",
       "</style>\n",
       "<table border=\"1\" class=\"dataframe\">\n",
       "  <thead>\n",
       "    <tr style=\"text-align: right;\">\n",
       "      <th></th>\n",
       "      <th>hero_id</th>\n",
       "      <th>gold</th>\n",
       "      <th>gold_per_min</th>\n",
       "      <th>xp_per_min</th>\n",
       "      <th>kills</th>\n",
       "      <th>deaths</th>\n",
       "      <th>assists</th>\n",
       "      <th>hero_damage</th>\n",
       "      <th>hero_healing</th>\n",
       "      <th>tower_damage</th>\n",
       "      <th>level</th>\n",
       "    </tr>\n",
       "  </thead>\n",
       "  <tbody>\n",
       "    <tr>\n",
       "      <th>0</th>\n",
       "      <td>86</td>\n",
       "      <td>3261</td>\n",
       "      <td>347</td>\n",
       "      <td>362</td>\n",
       "      <td>9</td>\n",
       "      <td>3</td>\n",
       "      <td>18</td>\n",
       "      <td>8690</td>\n",
       "      <td>218</td>\n",
       "      <td>143</td>\n",
       "      <td>16</td>\n",
       "    </tr>\n",
       "    <tr>\n",
       "      <th>1</th>\n",
       "      <td>51</td>\n",
       "      <td>2954</td>\n",
       "      <td>494</td>\n",
       "      <td>659</td>\n",
       "      <td>13</td>\n",
       "      <td>3</td>\n",
       "      <td>18</td>\n",
       "      <td>23747</td>\n",
       "      <td>0</td>\n",
       "      <td>423</td>\n",
       "      <td>22</td>\n",
       "    </tr>\n",
       "    <tr>\n",
       "      <th>2</th>\n",
       "      <td>83</td>\n",
       "      <td>110</td>\n",
       "      <td>350</td>\n",
       "      <td>385</td>\n",
       "      <td>0</td>\n",
       "      <td>4</td>\n",
       "      <td>15</td>\n",
       "      <td>4217</td>\n",
       "      <td>1595</td>\n",
       "      <td>399</td>\n",
       "      <td>17</td>\n",
       "    </tr>\n",
       "    <tr>\n",
       "      <th>3</th>\n",
       "      <td>11</td>\n",
       "      <td>1179</td>\n",
       "      <td>599</td>\n",
       "      <td>605</td>\n",
       "      <td>8</td>\n",
       "      <td>4</td>\n",
       "      <td>19</td>\n",
       "      <td>14832</td>\n",
       "      <td>2714</td>\n",
       "      <td>6055</td>\n",
       "      <td>21</td>\n",
       "    </tr>\n",
       "    <tr>\n",
       "      <th>4</th>\n",
       "      <td>67</td>\n",
       "      <td>3307</td>\n",
       "      <td>613</td>\n",
       "      <td>762</td>\n",
       "      <td>20</td>\n",
       "      <td>3</td>\n",
       "      <td>17</td>\n",
       "      <td>33740</td>\n",
       "      <td>243</td>\n",
       "      <td>1833</td>\n",
       "      <td>24</td>\n",
       "    </tr>\n",
       "    <tr>\n",
       "      <th>...</th>\n",
       "      <td>...</td>\n",
       "      <td>...</td>\n",
       "      <td>...</td>\n",
       "      <td>...</td>\n",
       "      <td>...</td>\n",
       "      <td>...</td>\n",
       "      <td>...</td>\n",
       "      <td>...</td>\n",
       "      <td>...</td>\n",
       "      <td>...</td>\n",
       "      <td>...</td>\n",
       "    </tr>\n",
       "    <tr>\n",
       "      <th>499995</th>\n",
       "      <td>100</td>\n",
       "      <td>2718</td>\n",
       "      <td>468</td>\n",
       "      <td>626</td>\n",
       "      <td>16</td>\n",
       "      <td>9</td>\n",
       "      <td>16</td>\n",
       "      <td>22127</td>\n",
       "      <td>0</td>\n",
       "      <td>1227</td>\n",
       "      <td>23</td>\n",
       "    </tr>\n",
       "    <tr>\n",
       "      <th>499996</th>\n",
       "      <td>9</td>\n",
       "      <td>3755</td>\n",
       "      <td>507</td>\n",
       "      <td>607</td>\n",
       "      <td>12</td>\n",
       "      <td>6</td>\n",
       "      <td>11</td>\n",
       "      <td>12381</td>\n",
       "      <td>0</td>\n",
       "      <td>2269</td>\n",
       "      <td>23</td>\n",
       "    </tr>\n",
       "    <tr>\n",
       "      <th>499997</th>\n",
       "      <td>90</td>\n",
       "      <td>1059</td>\n",
       "      <td>371</td>\n",
       "      <td>404</td>\n",
       "      <td>5</td>\n",
       "      <td>3</td>\n",
       "      <td>11</td>\n",
       "      <td>7050</td>\n",
       "      <td>872</td>\n",
       "      <td>87</td>\n",
       "      <td>18</td>\n",
       "    </tr>\n",
       "    <tr>\n",
       "      <th>499998</th>\n",
       "      <td>73</td>\n",
       "      <td>3165</td>\n",
       "      <td>780</td>\n",
       "      <td>703</td>\n",
       "      <td>8</td>\n",
       "      <td>6</td>\n",
       "      <td>17</td>\n",
       "      <td>16474</td>\n",
       "      <td>0</td>\n",
       "      <td>2851</td>\n",
       "      <td>25</td>\n",
       "    </tr>\n",
       "    <tr>\n",
       "      <th>499999</th>\n",
       "      <td>53</td>\n",
       "      <td>2972</td>\n",
       "      <td>520</td>\n",
       "      <td>533</td>\n",
       "      <td>6</td>\n",
       "      <td>6</td>\n",
       "      <td>17</td>\n",
       "      <td>9822</td>\n",
       "      <td>0</td>\n",
       "      <td>5747</td>\n",
       "      <td>21</td>\n",
       "    </tr>\n",
       "  </tbody>\n",
       "</table>\n",
       "<p>500000 rows × 11 columns</p>\n",
       "</div>"
      ],
      "text/plain": [
       "        hero_id  gold  gold_per_min  xp_per_min  kills  deaths  assists  \\\n",
       "0            86  3261           347         362      9       3       18   \n",
       "1            51  2954           494         659     13       3       18   \n",
       "2            83   110           350         385      0       4       15   \n",
       "3            11  1179           599         605      8       4       19   \n",
       "4            67  3307           613         762     20       3       17   \n",
       "...         ...   ...           ...         ...    ...     ...      ...   \n",
       "499995      100  2718           468         626     16       9       16   \n",
       "499996        9  3755           507         607     12       6       11   \n",
       "499997       90  1059           371         404      5       3       11   \n",
       "499998       73  3165           780         703      8       6       17   \n",
       "499999       53  2972           520         533      6       6       17   \n",
       "\n",
       "        hero_damage  hero_healing  tower_damage  level  \n",
       "0              8690           218           143     16  \n",
       "1             23747             0           423     22  \n",
       "2              4217          1595           399     17  \n",
       "3             14832          2714          6055     21  \n",
       "4             33740           243          1833     24  \n",
       "...             ...           ...           ...    ...  \n",
       "499995        22127             0          1227     23  \n",
       "499996        12381             0          2269     23  \n",
       "499997         7050           872            87     18  \n",
       "499998        16474             0          2851     25  \n",
       "499999         9822             0          5747     21  \n",
       "\n",
       "[500000 rows x 11 columns]"
      ]
     },
     "execution_count": 5,
     "metadata": {},
     "output_type": "execute_result"
    }
   ],
   "source": [
    "heroClustering"
   ]
  },
  {
   "cell_type": "markdown",
   "metadata": {},
   "source": [
    "### 1. correlation of each feactures using seaborn"
   ]
  },
  {
   "cell_type": "code",
   "execution_count": 6,
   "metadata": {},
   "outputs": [
    {
     "data": {
      "text/plain": [
       "<matplotlib.axes._subplots.AxesSubplot at 0x14994a05308>"
      ]
     },
     "execution_count": 6,
     "metadata": {},
     "output_type": "execute_result"
    },
    {
     "data": {
      "image/png": "[encoded data removed]",
      "text/plain": [
       "<Figure size 720x720 with 2 Axes>"
      ]
     },
     "metadata": {
      "needs_background": "light"
     },
     "output_type": "display_data"
    }
   ],
   "source": [
    "import seaborn as sns\n",
    "corr=heroClustering.corr()\n",
    "fig, ax = plt.subplots(figsize=(10,10))         # Sample figsize in inches\n",
    "sns.heatmap(corr, annot=True, linewidths=.5, ax=ax)"
   ]
  },
  {
   "cell_type": "markdown",
   "metadata": {},
   "source": [
    "All of the features we find in the dataset might not be useful in building a machine learning model to make the necessary prediction. So, feature selection plays a huge role in building a machine learning model. Hence, we are using Seaborn heatmap to check correlations among columns. Pink means positive, Purple means negative. The stronger the color, the larger the correlation magnitude. Now looking at the chart above, we can see that “gold_per_min” and “ex_per_min” have high correlation, we can drop one of the two features. "
   ]
  },
  {
   "cell_type": "markdown",
   "metadata": {},
   "source": [
    "### 2. lookup hero name in every matches"
   ]
  },
  {
   "cell_type": "code",
   "execution_count": 7,
   "metadata": {},
   "outputs": [],
   "source": [
    "hero_lookup = dict(zip(heroes['hero_id'], heroes['localized_name']))"
   ]
  },
  {
   "cell_type": "code",
   "execution_count": 8,
   "metadata": {},
   "outputs": [
    {
     "name": "stderr",
     "output_type": "stream",
     "text": [
      "C:\\Users\\chena\\Miniconda3\\lib\\site-packages\\ipykernel_launcher.py:2: SettingWithCopyWarning: \n",
      "A value is trying to be set on a copy of a slice from a DataFrame.\n",
      "Try using .loc[row_indexer,col_indexer] = value instead\n",
      "\n",
      "See the caveats in the documentation: https://pandas.pydata.org/pandas-docs/stable/user_guide/indexing.html#returning-a-view-versus-a-copy\n",
      "  \n"
     ]
    }
   ],
   "source": [
    "hero_lookup[0] = 'unknown'\n",
    "heroClustering['localized_name'] = heroClustering['hero_id'].apply(lambda _id : hero_lookup[_id])"
   ]
  },
  {
   "cell_type": "code",
   "execution_count": 9,
   "metadata": {},
   "outputs": [
    {
     "data": {
      "text/html": [
       "<div>\n",
       "<style scoped>\n",
       "    .dataframe tbody tr th:only-of-type {\n",
       "        vertical-align: middle;\n",
       "    }\n",
       "\n",
       "    .dataframe tbody tr th {\n",
       "        vertical-align: top;\n",
       "    }\n",
       "\n",
       "    .dataframe thead th {\n",
       "        text-align: right;\n",
       "    }\n",
       "</style>\n",
       "<table border=\"1\" class=\"dataframe\">\n",
       "  <thead>\n",
       "    <tr style=\"text-align: right;\">\n",
       "      <th></th>\n",
       "      <th>hero_id</th>\n",
       "      <th>gold</th>\n",
       "      <th>gold_per_min</th>\n",
       "      <th>xp_per_min</th>\n",
       "      <th>kills</th>\n",
       "      <th>deaths</th>\n",
       "      <th>assists</th>\n",
       "      <th>hero_damage</th>\n",
       "      <th>hero_healing</th>\n",
       "      <th>tower_damage</th>\n",
       "      <th>level</th>\n",
       "      <th>localized_name</th>\n",
       "    </tr>\n",
       "  </thead>\n",
       "  <tbody>\n",
       "    <tr>\n",
       "      <th>0</th>\n",
       "      <td>86</td>\n",
       "      <td>3261</td>\n",
       "      <td>347</td>\n",
       "      <td>362</td>\n",
       "      <td>9</td>\n",
       "      <td>3</td>\n",
       "      <td>18</td>\n",
       "      <td>8690</td>\n",
       "      <td>218</td>\n",
       "      <td>143</td>\n",
       "      <td>16</td>\n",
       "      <td>Rubick</td>\n",
       "    </tr>\n",
       "    <tr>\n",
       "      <th>1</th>\n",
       "      <td>51</td>\n",
       "      <td>2954</td>\n",
       "      <td>494</td>\n",
       "      <td>659</td>\n",
       "      <td>13</td>\n",
       "      <td>3</td>\n",
       "      <td>18</td>\n",
       "      <td>23747</td>\n",
       "      <td>0</td>\n",
       "      <td>423</td>\n",
       "      <td>22</td>\n",
       "      <td>Clockwerk</td>\n",
       "    </tr>\n",
       "    <tr>\n",
       "      <th>2</th>\n",
       "      <td>83</td>\n",
       "      <td>110</td>\n",
       "      <td>350</td>\n",
       "      <td>385</td>\n",
       "      <td>0</td>\n",
       "      <td>4</td>\n",
       "      <td>15</td>\n",
       "      <td>4217</td>\n",
       "      <td>1595</td>\n",
       "      <td>399</td>\n",
       "      <td>17</td>\n",
       "      <td>Treant Protector</td>\n",
       "    </tr>\n",
       "    <tr>\n",
       "      <th>3</th>\n",
       "      <td>11</td>\n",
       "      <td>1179</td>\n",
       "      <td>599</td>\n",
       "      <td>605</td>\n",
       "      <td>8</td>\n",
       "      <td>4</td>\n",
       "      <td>19</td>\n",
       "      <td>14832</td>\n",
       "      <td>2714</td>\n",
       "      <td>6055</td>\n",
       "      <td>21</td>\n",
       "      <td>Shadow Fiend</td>\n",
       "    </tr>\n",
       "    <tr>\n",
       "      <th>4</th>\n",
       "      <td>67</td>\n",
       "      <td>3307</td>\n",
       "      <td>613</td>\n",
       "      <td>762</td>\n",
       "      <td>20</td>\n",
       "      <td>3</td>\n",
       "      <td>17</td>\n",
       "      <td>33740</td>\n",
       "      <td>243</td>\n",
       "      <td>1833</td>\n",
       "      <td>24</td>\n",
       "      <td>Spectre</td>\n",
       "    </tr>\n",
       "  </tbody>\n",
       "</table>\n",
       "</div>"
      ],
      "text/plain": [
       "   hero_id  gold  gold_per_min  xp_per_min  kills  deaths  assists  \\\n",
       "0       86  3261           347         362      9       3       18   \n",
       "1       51  2954           494         659     13       3       18   \n",
       "2       83   110           350         385      0       4       15   \n",
       "3       11  1179           599         605      8       4       19   \n",
       "4       67  3307           613         762     20       3       17   \n",
       "\n",
       "   hero_damage  hero_healing  tower_damage  level    localized_name  \n",
       "0         8690           218           143     16            Rubick  \n",
       "1        23747             0           423     22         Clockwerk  \n",
       "2         4217          1595           399     17  Treant Protector  \n",
       "3        14832          2714          6055     21      Shadow Fiend  \n",
       "4        33740           243          1833     24           Spectre  "
      ]
     },
     "execution_count": 9,
     "metadata": {},
     "output_type": "execute_result"
    }
   ],
   "source": [
    "heroClustering.head()"
   ]
  },
  {
   "cell_type": "code",
   "execution_count": 10,
   "metadata": {},
   "outputs": [
    {
     "data": {
      "text/plain": [
       "(500000, 12)"
      ]
     },
     "execution_count": 10,
     "metadata": {},
     "output_type": "execute_result"
    }
   ],
   "source": [
    "heroClustering.shape"
   ]
  },
  {
   "cell_type": "markdown",
   "metadata": {},
   "source": [
    "### 3. Find out most popular Dota 2 Heroes"
   ]
  },
  {
   "cell_type": "code",
   "execution_count": 11,
   "metadata": {},
   "outputs": [
    {
     "data": {
      "text/plain": [
       "Windranger      20881\n",
       "Shadow Fiend    17007\n",
       "Invoker         11676\n",
       "Earthshaker     11323\n",
       "Slardar         11181\n",
       "                ...  \n",
       "Lone Druid        967\n",
       "Brewmaster        931\n",
       "Elder Titan       838\n",
       "Chen              579\n",
       "unknown            37\n",
       "Name: localized_name, Length: 111, dtype: int64"
      ]
     },
     "execution_count": 11,
     "metadata": {},
     "output_type": "execute_result"
    }
   ],
   "source": [
    "heroClustering['localized_name'].value_counts()"
   ]
  },
  {
   "cell_type": "code",
   "execution_count": 12,
   "metadata": {},
   "outputs": [
    {
     "data": {
      "image/png": "[encoded data removed]",
      "text/plain": [
       "<Figure size 1368x1080 with 1 Axes>"
      ]
     },
     "metadata": {
      "needs_background": "light"
     },
     "output_type": "display_data"
    }
   ],
   "source": [
    "Most_Popular_Hero=heroClustering['localized_name'].value_counts().plot(title='Most Popular Dota 2 Heroes',kind='bar',figsize=(19,15));\n",
    "plt.xlabel(\"Hero's Name\")\n",
    "plt.ylabel(\"Counts\")\n",
    "plt.show()"
   ]
  },
  {
   "cell_type": "markdown",
   "metadata": {},
   "source": [
    "#### we can see that the top three popular heroes are Windranger, Shadow Fiend and Invoker as they are over complicated but worth playing."
   ]
  },
  {
   "cell_type": "markdown",
   "metadata": {},
   "source": [
    "### 4. Find out statistics about each hero"
   ]
  },
  {
   "cell_type": "code",
   "execution_count": 13,
   "metadata": {},
   "outputs": [],
   "source": [
    "heroes_stats = heroClustering.groupby(['localized_name']).mean()\n",
    "heroes_stats.drop('unknown',inplace=True)"
   ]
  },
  {
   "cell_type": "code",
   "execution_count": 14,
   "metadata": {},
   "outputs": [
    {
     "data": {
      "text/html": [
       "<div>\n",
       "<style scoped>\n",
       "    .dataframe tbody tr th:only-of-type {\n",
       "        vertical-align: middle;\n",
       "    }\n",
       "\n",
       "    .dataframe tbody tr th {\n",
       "        vertical-align: top;\n",
       "    }\n",
       "\n",
       "    .dataframe thead th {\n",
       "        text-align: right;\n",
       "    }\n",
       "</style>\n",
       "<table border=\"1\" class=\"dataframe\">\n",
       "  <thead>\n",
       "    <tr style=\"text-align: right;\">\n",
       "      <th></th>\n",
       "      <th>hero_id</th>\n",
       "      <th>gold</th>\n",
       "      <th>gold_per_min</th>\n",
       "      <th>xp_per_min</th>\n",
       "      <th>kills</th>\n",
       "      <th>deaths</th>\n",
       "      <th>assists</th>\n",
       "      <th>hero_damage</th>\n",
       "      <th>hero_healing</th>\n",
       "      <th>tower_damage</th>\n",
       "      <th>level</th>\n",
       "    </tr>\n",
       "    <tr>\n",
       "      <th>localized_name</th>\n",
       "      <th></th>\n",
       "      <th></th>\n",
       "      <th></th>\n",
       "      <th></th>\n",
       "      <th></th>\n",
       "      <th></th>\n",
       "      <th></th>\n",
       "      <th></th>\n",
       "      <th></th>\n",
       "      <th></th>\n",
       "      <th></th>\n",
       "    </tr>\n",
       "  </thead>\n",
       "  <tbody>\n",
       "    <tr>\n",
       "      <th>Abaddon</th>\n",
       "      <td>102.0</td>\n",
       "      <td>1856.153474</td>\n",
       "      <td>363.055287</td>\n",
       "      <td>417.260725</td>\n",
       "      <td>5.005740</td>\n",
       "      <td>6.278550</td>\n",
       "      <td>12.647432</td>\n",
       "      <td>9660.720846</td>\n",
       "      <td>2242.337462</td>\n",
       "      <td>1009.606949</td>\n",
       "      <td>17.108157</td>\n",
       "    </tr>\n",
       "    <tr>\n",
       "      <th>Alchemist</th>\n",
       "      <td>73.0</td>\n",
       "      <td>2769.521633</td>\n",
       "      <td>709.545455</td>\n",
       "      <td>577.001832</td>\n",
       "      <td>6.679019</td>\n",
       "      <td>7.173369</td>\n",
       "      <td>11.647562</td>\n",
       "      <td>14438.700906</td>\n",
       "      <td>10.312735</td>\n",
       "      <td>2585.172758</td>\n",
       "      <td>20.491805</td>\n",
       "    </tr>\n",
       "    <tr>\n",
       "      <th>Ancient Apparition</th>\n",
       "      <td>68.0</td>\n",
       "      <td>1662.564934</td>\n",
       "      <td>313.147046</td>\n",
       "      <td>324.378054</td>\n",
       "      <td>4.826151</td>\n",
       "      <td>7.492818</td>\n",
       "      <td>13.356286</td>\n",
       "      <td>8888.788094</td>\n",
       "      <td>213.265956</td>\n",
       "      <td>298.453280</td>\n",
       "      <td>15.517252</td>\n",
       "    </tr>\n",
       "    <tr>\n",
       "      <th>Anti-Mage</th>\n",
       "      <td>1.0</td>\n",
       "      <td>2392.246275</td>\n",
       "      <td>554.192742</td>\n",
       "      <td>580.392827</td>\n",
       "      <td>7.340996</td>\n",
       "      <td>5.449979</td>\n",
       "      <td>6.722222</td>\n",
       "      <td>10162.878033</td>\n",
       "      <td>135.156769</td>\n",
       "      <td>3081.401767</td>\n",
       "      <td>20.574819</td>\n",
       "    </tr>\n",
       "    <tr>\n",
       "      <th>Axe</th>\n",
       "      <td>2.0</td>\n",
       "      <td>1682.507933</td>\n",
       "      <td>400.109107</td>\n",
       "      <td>442.938274</td>\n",
       "      <td>8.525321</td>\n",
       "      <td>9.365138</td>\n",
       "      <td>10.498153</td>\n",
       "      <td>11945.333188</td>\n",
       "      <td>14.217779</td>\n",
       "      <td>453.616605</td>\n",
       "      <td>18.033254</td>\n",
       "    </tr>\n",
       "    <tr>\n",
       "      <th>...</th>\n",
       "      <td>...</td>\n",
       "      <td>...</td>\n",
       "      <td>...</td>\n",
       "      <td>...</td>\n",
       "      <td>...</td>\n",
       "      <td>...</td>\n",
       "      <td>...</td>\n",
       "      <td>...</td>\n",
       "      <td>...</td>\n",
       "      <td>...</td>\n",
       "      <td>...</td>\n",
       "    </tr>\n",
       "    <tr>\n",
       "      <th>Windranger</th>\n",
       "      <td>21.0</td>\n",
       "      <td>1904.752167</td>\n",
       "      <td>434.759973</td>\n",
       "      <td>480.775538</td>\n",
       "      <td>9.061491</td>\n",
       "      <td>6.874000</td>\n",
       "      <td>9.979407</td>\n",
       "      <td>13815.913510</td>\n",
       "      <td>8.870217</td>\n",
       "      <td>2273.793113</td>\n",
       "      <td>18.853072</td>\n",
       "    </tr>\n",
       "    <tr>\n",
       "      <th>Winter Wyvern</th>\n",
       "      <td>112.0</td>\n",
       "      <td>1737.437573</td>\n",
       "      <td>309.383266</td>\n",
       "      <td>335.962973</td>\n",
       "      <td>3.637911</td>\n",
       "      <td>7.674678</td>\n",
       "      <td>12.228401</td>\n",
       "      <td>6869.851111</td>\n",
       "      <td>313.957646</td>\n",
       "      <td>314.619852</td>\n",
       "      <td>15.408601</td>\n",
       "    </tr>\n",
       "    <tr>\n",
       "      <th>Witch Doctor</th>\n",
       "      <td>30.0</td>\n",
       "      <td>1583.393935</td>\n",
       "      <td>311.429450</td>\n",
       "      <td>338.096162</td>\n",
       "      <td>5.791968</td>\n",
       "      <td>8.706734</td>\n",
       "      <td>13.071985</td>\n",
       "      <td>9381.819424</td>\n",
       "      <td>2273.344625</td>\n",
       "      <td>448.930747</td>\n",
       "      <td>15.648409</td>\n",
       "    </tr>\n",
       "    <tr>\n",
       "      <th>Wraith King</th>\n",
       "      <td>42.0</td>\n",
       "      <td>2289.449063</td>\n",
       "      <td>479.170003</td>\n",
       "      <td>523.855530</td>\n",
       "      <td>7.865538</td>\n",
       "      <td>5.665897</td>\n",
       "      <td>11.854632</td>\n",
       "      <td>12594.282140</td>\n",
       "      <td>1442.225558</td>\n",
       "      <td>1960.160251</td>\n",
       "      <td>19.345009</td>\n",
       "    </tr>\n",
       "    <tr>\n",
       "      <th>Zeus</th>\n",
       "      <td>22.0</td>\n",
       "      <td>1850.768795</td>\n",
       "      <td>406.194814</td>\n",
       "      <td>468.550011</td>\n",
       "      <td>10.025278</td>\n",
       "      <td>7.576814</td>\n",
       "      <td>18.238178</td>\n",
       "      <td>23793.737198</td>\n",
       "      <td>130.565265</td>\n",
       "      <td>413.339943</td>\n",
       "      <td>18.916975</td>\n",
       "    </tr>\n",
       "  </tbody>\n",
       "</table>\n",
       "<p>110 rows × 11 columns</p>\n",
       "</div>"
      ],
      "text/plain": [
       "                    hero_id         gold  gold_per_min  xp_per_min      kills  \\\n",
       "localized_name                                                                  \n",
       "Abaddon               102.0  1856.153474    363.055287  417.260725   5.005740   \n",
       "Alchemist              73.0  2769.521633    709.545455  577.001832   6.679019   \n",
       "Ancient Apparition     68.0  1662.564934    313.147046  324.378054   4.826151   \n",
       "Anti-Mage               1.0  2392.246275    554.192742  580.392827   7.340996   \n",
       "Axe                     2.0  1682.507933    400.109107  442.938274   8.525321   \n",
       "...                     ...          ...           ...         ...        ...   \n",
       "Windranger             21.0  1904.752167    434.759973  480.775538   9.061491   \n",
       "Winter Wyvern         112.0  1737.437573    309.383266  335.962973   3.637911   \n",
       "Witch Doctor           30.0  1583.393935    311.429450  338.096162   5.791968   \n",
       "Wraith King            42.0  2289.449063    479.170003  523.855530   7.865538   \n",
       "Zeus                   22.0  1850.768795    406.194814  468.550011  10.025278   \n",
       "\n",
       "                      deaths    assists   hero_damage  hero_healing  \\\n",
       "localized_name                                                        \n",
       "Abaddon             6.278550  12.647432   9660.720846   2242.337462   \n",
       "Alchemist           7.173369  11.647562  14438.700906     10.312735   \n",
       "Ancient Apparition  7.492818  13.356286   8888.788094    213.265956   \n",
       "Anti-Mage           5.449979   6.722222  10162.878033    135.156769   \n",
       "Axe                 9.365138  10.498153  11945.333188     14.217779   \n",
       "...                      ...        ...           ...           ...   \n",
       "Windranger          6.874000   9.979407  13815.913510      8.870217   \n",
       "Winter Wyvern       7.674678  12.228401   6869.851111    313.957646   \n",
       "Witch Doctor        8.706734  13.071985   9381.819424   2273.344625   \n",
       "Wraith King         5.665897  11.854632  12594.282140   1442.225558   \n",
       "Zeus                7.576814  18.238178  23793.737198    130.565265   \n",
       "\n",
       "                    tower_damage      level  \n",
       "localized_name                               \n",
       "Abaddon              1009.606949  17.108157  \n",
       "Alchemist            2585.172758  20.491805  \n",
       "Ancient Apparition    298.453280  15.517252  \n",
       "Anti-Mage            3081.401767  20.574819  \n",
       "Axe                   453.616605  18.033254  \n",
       "...                          ...        ...  \n",
       "Windranger           2273.793113  18.853072  \n",
       "Winter Wyvern         314.619852  15.408601  \n",
       "Witch Doctor          448.930747  15.648409  \n",
       "Wraith King          1960.160251  19.345009  \n",
       "Zeus                  413.339943  18.916975  \n",
       "\n",
       "[110 rows x 11 columns]"
      ]
     },
     "execution_count": 14,
     "metadata": {},
     "output_type": "execute_result"
    }
   ],
   "source": [
    "heroes_stats"
   ]
  },
  {
   "cell_type": "code",
   "execution_count": 15,
   "metadata": {},
   "outputs": [
    {
     "data": {
      "image/png": "[encoded data removed]",
      "text/plain": [
       "<Figure size 720x720 with 12 Axes>"
      ]
     },
     "metadata": {
      "needs_background": "light"
     },
     "output_type": "display_data"
    }
   ],
   "source": [
    "heroes_stats.hist(figsize= (10,10))\n",
    "plt.tight_layout()"
   ]
  },
  {
   "cell_type": "markdown",
   "metadata": {},
   "source": [
    "we can see that most of the variables are quite normally distributed. However, these variables in our dataset are at varying scales. For Instance if you refer to the histograms above you can see that the variable “gold_per_min” ranges from 300 to 700, whilst “deaths” or “kills” range from 0 to 12. This poses a problem for many popular machine learning algorithms. Standardising the scale for all continuous variables can often result in an increase in performance of machine learning models."
   ]
  },
  {
   "cell_type": "code",
   "execution_count": null,
   "metadata": {},
   "outputs": [
    {
     "data": {
      "text/plain": [
       "<seaborn.axisgrid.PairGrid at 0x149aabd2c88>"
      ]
     },
     "execution_count": 16,
     "metadata": {},
     "output_type": "execute_result"
    }
   ],
   "source": [
    "sns.pairplot(heroes_stats)"
   ]
  },
  {
   "cell_type": "code",
   "execution_count": null,
   "metadata": {},
   "outputs": [],
   "source": [
    "heroes_stats.index"
   ]
  },
  {
   "cell_type": "code",
   "execution_count": null,
   "metadata": {},
   "outputs": [],
   "source": [
    "heroes_clustering = heroes_stats[['gold_per_min','kills','deaths','assists','hero_damage','tower_damage']]\n",
    "heroes_clustering"
   ]
  },
  {
   "cell_type": "markdown",
   "metadata": {},
   "source": [
    "### 5. Standardize features by removing the mean and scaling to unit variance"
   ]
  },
  {
   "cell_type": "code",
   "execution_count": null,
   "metadata": {},
   "outputs": [],
   "source": [
    "from sklearn.preprocessing import StandardScaler\n",
    "scaler = StandardScaler()\n",
    "scaler.fit(heroes_clustering)\n",
    "heroes_clustering1=pd.DataFrame(scaler.transform(heroes_clustering),columns=heroes_clustering.columns, index=heroes_clustering.index)\n",
    "heroes_clustering1"
   ]
  },
  {
   "cell_type": "code",
   "execution_count": null,
   "metadata": {},
   "outputs": [],
   "source": [
    "heroes_clustering1.hist(figsize= (10,10))\n",
    "plt.tight_layout()"
   ]
  },
  {
   "cell_type": "markdown",
   "metadata": {},
   "source": [
    "### 6. Perform KMeans, set k = 5, and random_state=1000"
   ]
  },
  {
   "cell_type": "code",
   "execution_count": null,
   "metadata": {},
   "outputs": [],
   "source": [
    "from sklearn.cluster import KMeans\n",
    "n_clusters = 5\n",
    "heroes_kmeans = KMeans(n_clusters=n_clusters,random_state=1000).fit(heroes_clustering1)\n",
    "# you need to set the random_State, otherwise the clustering numbering will keep changing"
   ]
  },
  {
   "cell_type": "markdown",
   "metadata": {},
   "source": [
    "##### Adding the label to the dataframe"
   ]
  },
  {
   "cell_type": "code",
   "execution_count": null,
   "metadata": {},
   "outputs": [],
   "source": [
    "heroes_clustering1['cluster']=heroes_kmeans.labels_"
   ]
  },
  {
   "cell_type": "code",
   "execution_count": null,
   "metadata": {},
   "outputs": [],
   "source": [
    "heroes_clustering1"
   ]
  },
  {
   "cell_type": "code",
   "execution_count": null,
   "metadata": {},
   "outputs": [],
   "source": [
    "heroes_clustering1['cluster'].value_counts()"
   ]
  },
  {
   "cell_type": "code",
   "execution_count": null,
   "metadata": {},
   "outputs": [],
   "source": [
    "heroes_clustering1[heroes_clustering1['cluster'] == 3]"
   ]
  },
  {
   "cell_type": "markdown",
   "metadata": {},
   "source": [
    "### 7. Peform PCA to convert a set of observations of possibly correlated variables into a set of values of linearly uncorrelated variables"
   ]
  },
  {
   "cell_type": "code",
   "execution_count": null,
   "metadata": {},
   "outputs": [],
   "source": [
    "from sklearn.decomposition import PCA\n",
    "reduced_data = PCA(n_components=2).fit_transform(heroes_stats)\n",
    "reduced_data"
   ]
  },
  {
   "cell_type": "markdown",
   "metadata": {},
   "source": [
    "### 8. Scatter plot visualization of hero map"
   ]
  },
  {
   "cell_type": "code",
   "execution_count": null,
   "metadata": {},
   "outputs": [],
   "source": [
    "n1=[]\n",
    "x=[]\n",
    "y=[]\n",
    "n2=[]\n",
    "x2=[]\n",
    "y2=[]\n",
    "n3=[]\n",
    "x3=[]\n",
    "y3=[]\n",
    "n4=[]\n",
    "x4=[]\n",
    "y4=[]\n",
    "n5=[]\n",
    "x5=[]\n",
    "y5=[]\n",
    "for i in range(0, reduced_data.shape[0]):\n",
    "    if heroes_clustering1.cluster[i] == 0:\n",
    "        n1.append(heroes_clustering1.index[i])\n",
    "        x.append(reduced_data[i,0])\n",
    "        y.append(reduced_data[i,1])\n",
    "    elif heroes_clustering1.cluster[i] == 1:\n",
    "        n2.append(heroes_clustering1.index[i])\n",
    "        x2.append(reduced_data[i,0])\n",
    "        y2.append(reduced_data[i,1])\n",
    "    elif heroes_clustering1.cluster[i] == 2:\n",
    "        n3.append(heroes_clustering1.index[i])\n",
    "        x3.append(reduced_data[i,0])\n",
    "        y3.append(reduced_data[i,1])\n",
    "    elif heroes_clustering1.cluster[i] == 3:\n",
    "        n4.append(heroes_clustering1.index[i])\n",
    "        x4.append(reduced_data[i,0])\n",
    "        y4.append(reduced_data[i,1])\n",
    "    elif heroes_clustering1.cluster[i] == 4:\n",
    "        n5.append(heroes_clustering1.index[i])\n",
    "        x5.append(reduced_data[i,0])\n",
    "        y5.append(reduced_data[i,1])\n",
    "\n",
    "\n",
    "fig, ax = plt.subplots(figsize= (18,10))\n",
    "ax.scatter(x, y)\n",
    "plt.scatter(x, y, color='r',marker='o')\n",
    "plt.scatter(x2, y2, color='g',marker='o')\n",
    "plt.scatter(x3, y3, color='b',marker='*')\n",
    "plt.scatter(x4, y4, color='c',marker='^')\n",
    "plt.scatter(x5, y5, color='b',marker='s')\n",
    "\n",
    "plt.legend(['Support', 'Offlane',\n",
    "'Hard Support','Midlane','Carry'])\n",
    "\n",
    "for i, txt in enumerate(n1):\n",
    "    ax.annotate(txt, (x[i], y[i]))\n",
    "\n",
    "for i, txt in enumerate(n2):\n",
    "    ax.annotate(txt, (x2[i], y2[i]))\n",
    "    \n",
    "for i, txt in enumerate(n3):\n",
    "    ax.annotate(txt, (x3[i], y3[i]))\n",
    "    \n",
    "for i, txt in enumerate(n4):\n",
    "    ax.annotate(txt, (x4[i], y4[i]))\n",
    "    \n",
    "for i, txt in enumerate(n5):\n",
    "    ax.annotate(txt, (x5[i], y5[i]))\n",
    "    \n"
   ]
  },
  {
   "cell_type": "markdown",
   "metadata": {},
   "source": [
    "#### Based on the Hero map above, K-mean algorithm was able to group heroes based on their similarities. For example, Mid laner consists of Zeus, Tinker, Shadow Fiend, Templar Assassin and so on. These heroes always go 1 on 1 and easily move to other lanes to gank enemies. Hence, the mid lane can be one of the most crucial aspects to winning a match. And as any mid player knows, losing mid early on can quickly snowball to a fast loss. Therefore, identifying who is mid player and what hero he used is vital to predict the win rate before the match."
   ]
  },
  {
   "cell_type": "code",
   "execution_count": null,
   "metadata": {},
   "outputs": [],
   "source": [
    "matches.columns"
   ]
  },
  {
   "cell_type": "code",
   "execution_count": null,
   "metadata": {},
   "outputs": [],
   "source": [
    "heroes"
   ]
  },
  {
   "cell_type": "markdown",
   "metadata": {},
   "source": [
    "### 9. Identify each hero position using hero map"
   ]
  },
  {
   "cell_type": "code",
   "execution_count": null,
   "metadata": {},
   "outputs": [],
   "source": [
    "hero_postion = pd.merge(heroes, heroes_clustering1, on='localized_name')\n",
    "hero_postion.head()"
   ]
  },
  {
   "cell_type": "code",
   "execution_count": null,
   "metadata": {},
   "outputs": [],
   "source": [
    "def dummy(x):\n",
    "        if x ==0:\n",
    "            return ('Offlane')\n",
    "        elif x == 1:\n",
    "            return ('Hard Support')\n",
    "        elif x == 2:\n",
    "            return ('Midlane')\n",
    "        elif x == 3:\n",
    "            return ('Carry')\n",
    "        elif x == 4:\n",
    "            return ('Support')\n",
    "\n",
    "hero_postion[\"position\"]=hero_postion['cluster'].apply(dummy)\n",
    "\n",
    "hero_postion.head()"
   ]
  },
  {
   "cell_type": "code",
   "execution_count": null,
   "metadata": {},
   "outputs": [],
   "source": [
    "# hero_postion\n",
    "# hero_postion.to_csv(r'hero_postion.csv')"
   ]
  },
  {
   "cell_type": "markdown",
   "metadata": {},
   "source": [
    "### 10. Find out statistics about position in Dota2"
   ]
  },
  {
   "cell_type": "code",
   "execution_count": null,
   "metadata": {},
   "outputs": [],
   "source": [
    "hero_position_info= pd.merge(heroes_stats,hero_postion, on='localized_name').groupby(['position']).mean()\n",
    "hero_position_info"
   ]
  },
  {
   "cell_type": "markdown",
   "metadata": {},
   "source": [
    "### 11. visualization of Dota2 postion"
   ]
  },
  {
   "cell_type": "code",
   "execution_count": null,
   "metadata": {},
   "outputs": [],
   "source": [
    "hero_position_info1= pd.merge(heroes_stats,hero_postion, on='localized_name').groupby(['position'])\n",
    "hero_position_info1.boxplot(column='gold_per_min_x',figsize=(15,15))"
   ]
  },
  {
   "cell_type": "markdown",
   "metadata": {},
   "source": [
    "#### Based on the boxplot above, we can see that Carry and Midlane have high gold_per_min"
   ]
  },
  {
   "cell_type": "code",
   "execution_count": null,
   "metadata": {},
   "outputs": [],
   "source": [
    "hero_position_info"
   ]
  },
  {
   "cell_type": "code",
   "execution_count": null,
   "metadata": {},
   "outputs": [],
   "source": [
    "hero_position_info = hero_position_info[['gold','gold_per_min_x','xp_per_min','kills_x','deaths_x'\n",
    "                                        ,'assists_x','hero_damage_x','tower_damage_x','level']]"
   ]
  },
  {
   "cell_type": "code",
   "execution_count": null,
   "metadata": {},
   "outputs": [],
   "source": [
    "hero_position_info"
   ]
  },
  {
   "cell_type": "code",
   "execution_count": null,
   "metadata": {},
   "outputs": [],
   "source": [
    "ax = hero_position_info.sort_values('gold_per_min_x',ascending=False)['gold_per_min_x'].plot(kind=\"bar\")\n",
    "plt.tight_layout()"
   ]
  },
  {
   "cell_type": "code",
   "execution_count": null,
   "metadata": {},
   "outputs": [],
   "source": [
    "ax = hero_position_info.sort_values('assists_x',ascending=False)['assists_x'].plot(kind=\"bar\")\n",
    "plt.tight_layout()"
   ]
  },
  {
   "cell_type": "code",
   "execution_count": null,
   "metadata": {},
   "outputs": [],
   "source": [
    "ax = hero_position_info.sort_values('level',ascending=False)['level'].plot(kind=\"bar\")\n",
    "plt.tight_layout()"
   ]
  },
  {
   "cell_type": "code",
   "execution_count": null,
   "metadata": {},
   "outputs": [],
   "source": [
    "ax = hero_position_info.sort_values('deaths_x',ascending=False)['deaths_x'].plot(kind=\"bar\")\n",
    "plt.tight_layout()"
   ]
  },
  {
   "cell_type": "code",
   "execution_count": null,
   "metadata": {},
   "outputs": [],
   "source": []
  }
 ],
 "metadata": {
  "kernelspec": {
   "display_name": "Python 3",
   "language": "python",
   "name": "python3"
  },
  "language_info": {
   "codemirror_mode": {
    "name": "ipython",
    "version": 3
   },
   "file_extension": ".py",
   "mimetype": "text/x-python",
   "name": "python",
   "nbconvert_exporter": "python",
   "pygments_lexer": "ipython3",
   "version": "3.6.10"
  }
 },
 "nbformat": 4,
 "nbformat_minor": 2
}
